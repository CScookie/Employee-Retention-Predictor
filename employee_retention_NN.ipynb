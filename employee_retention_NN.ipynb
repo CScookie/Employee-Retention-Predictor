{
 "cells": [
  {
   "cell_type": "markdown",
   "metadata": {},
   "source": [
    "# Import relevant libaries"
   ]
  },
  {
   "cell_type": "code",
   "execution_count": 1,
   "metadata": {},
   "outputs": [],
   "source": [
    "# we must import the libraries once again since we haven't imported them in this file\n",
    "import numpy as np\n",
    "import tensorflow as tf"
   ]
  },
  {
   "cell_type": "markdown",
   "metadata": {},
   "source": [
    "## Load .npz files and store each in variable"
   ]
  },
  {
   "cell_type": "code",
   "execution_count": 2,
   "metadata": {},
   "outputs": [],
   "source": [
    "# let's create a temporary variable npz, where we will store each of the three HR datasets\n",
    "npz = np.load('HR_data_train.npz')\n",
    "\n",
    "# we extract the inputs using the keyword under which we saved them\n",
    "# to ensure that they are all floats, let's also take care of that\n",
    "train_inputs = npz['inputs'].astype(np.float)\n",
    "# targets must be int because of sparse_categorical_crossentropy (we want to be able to smoothly one-hot encode them)\n",
    "train_targets = npz['targets'].astype(np.int)\n",
    "\n",
    "# we load the validation data in the temporary variable\n",
    "npz = np.load('HR_data_validation.npz')\n",
    "# we can load the inputs and the targets in the same line\n",
    "validation_inputs, validation_targets = npz['inputs'].astype(np.float), npz['targets'].astype(np.int)\n",
    "\n",
    "# we load the test data in the temporary variable\n",
    "npz = np.load('HR_data_test.npz')\n",
    "# we create 2 variables that will contain the test inputs and the test targets\n",
    "test_inputs, test_targets = npz['inputs'].astype(np.float), npz['targets'].astype(np.int)"
   ]
  },
  {
   "cell_type": "markdown",
   "metadata": {},
   "source": [
    "## Training the model\n",
    "\n",
    "\n",
    "### Dropout(0.2) and early_stopping used to prevent overfitting of the model"
   ]
  },
  {
   "cell_type": "code",
   "execution_count": 94,
   "metadata": {},
   "outputs": [
    {
     "name": "stdout",
     "output_type": "stream",
     "text": [
      "Train on 5520 samples, validate on 690 samples\n",
      "Epoch 1/100\n",
      "5520/5520 - 1s - loss: 9.7704 - accuracy: 0.4969 - val_loss: 0.7153 - val_accuracy: 0.4246\n",
      "Epoch 2/100\n",
      "5520/5520 - 0s - loss: 2.4929 - accuracy: 0.5049 - val_loss: 0.7010 - val_accuracy: 0.5101\n",
      "Epoch 3/100\n",
      "5520/5520 - 0s - loss: 1.2742 - accuracy: 0.5130 - val_loss: 0.6861 - val_accuracy: 0.5464\n",
      "Epoch 4/100\n",
      "5520/5520 - 0s - loss: 0.9000 - accuracy: 0.5040 - val_loss: 0.6847 - val_accuracy: 0.5493\n",
      "Epoch 5/100\n",
      "5520/5520 - 0s - loss: 0.7954 - accuracy: 0.5134 - val_loss: 0.6804 - val_accuracy: 0.6101\n",
      "Epoch 6/100\n",
      "5520/5520 - 0s - loss: 0.7468 - accuracy: 0.5317 - val_loss: 0.6824 - val_accuracy: 0.5101\n",
      "Epoch 7/100\n",
      "5520/5520 - 0s - loss: 0.7273 - accuracy: 0.5406 - val_loss: 0.6747 - val_accuracy: 0.5913\n",
      "Epoch 8/100\n",
      "5520/5520 - 0s - loss: 0.7055 - accuracy: 0.5498 - val_loss: 0.6723 - val_accuracy: 0.7304\n",
      "Epoch 9/100\n",
      "5520/5520 - 0s - loss: 0.7060 - accuracy: 0.5524 - val_loss: 0.6683 - val_accuracy: 0.5667\n",
      "Epoch 10/100\n",
      "5520/5520 - 0s - loss: 0.6879 - accuracy: 0.5639 - val_loss: 0.6648 - val_accuracy: 0.5464\n",
      "Epoch 11/100\n",
      "5520/5520 - 0s - loss: 0.6820 - accuracy: 0.5826 - val_loss: 0.6628 - val_accuracy: 0.5145\n",
      "Epoch 12/100\n",
      "5520/5520 - 0s - loss: 0.6640 - accuracy: 0.6013 - val_loss: 0.6502 - val_accuracy: 0.7261\n",
      "Epoch 13/100\n",
      "5520/5520 - 0s - loss: 0.6607 - accuracy: 0.6136 - val_loss: 0.6384 - val_accuracy: 0.7435\n",
      "Epoch 14/100\n",
      "5520/5520 - 0s - loss: 0.6500 - accuracy: 0.6239 - val_loss: 0.6303 - val_accuracy: 0.7522\n",
      "Epoch 15/100\n",
      "5520/5520 - 0s - loss: 0.6394 - accuracy: 0.6351 - val_loss: 0.6221 - val_accuracy: 0.7348\n",
      "Epoch 16/100\n",
      "5520/5520 - 0s - loss: 0.6297 - accuracy: 0.6536 - val_loss: 0.6062 - val_accuracy: 0.7783\n",
      "Epoch 17/100\n",
      "5520/5520 - 0s - loss: 0.6151 - accuracy: 0.6764 - val_loss: 0.5995 - val_accuracy: 0.8043\n",
      "Epoch 18/100\n",
      "5520/5520 - 0s - loss: 0.6132 - accuracy: 0.6605 - val_loss: 0.5753 - val_accuracy: 0.7841\n",
      "Epoch 19/100\n",
      "5520/5520 - 0s - loss: 0.5956 - accuracy: 0.6819 - val_loss: 0.5505 - val_accuracy: 0.7928\n",
      "Epoch 20/100\n",
      "5520/5520 - 0s - loss: 0.5873 - accuracy: 0.6830 - val_loss: 0.5397 - val_accuracy: 0.8101\n",
      "Epoch 21/100\n",
      "5520/5520 - 0s - loss: 0.5740 - accuracy: 0.7065 - val_loss: 0.5249 - val_accuracy: 0.8246\n",
      "Epoch 22/100\n",
      "5520/5520 - 0s - loss: 0.5593 - accuracy: 0.7071 - val_loss: 0.5249 - val_accuracy: 0.8217\n",
      "Epoch 23/100\n",
      "5520/5520 - 0s - loss: 0.5538 - accuracy: 0.7150 - val_loss: 0.4914 - val_accuracy: 0.8420\n",
      "Epoch 24/100\n",
      "5520/5520 - 0s - loss: 0.5500 - accuracy: 0.7149 - val_loss: 0.4845 - val_accuracy: 0.8391\n",
      "Epoch 25/100\n",
      "5520/5520 - 0s - loss: 0.5444 - accuracy: 0.7118 - val_loss: 0.4690 - val_accuracy: 0.8420\n",
      "Epoch 26/100\n",
      "5520/5520 - 0s - loss: 0.5420 - accuracy: 0.7234 - val_loss: 0.4529 - val_accuracy: 0.8507\n",
      "Epoch 27/100\n",
      "5520/5520 - 0s - loss: 0.5407 - accuracy: 0.7246 - val_loss: 0.4687 - val_accuracy: 0.8493\n",
      "Epoch 28/100\n",
      "5520/5520 - 0s - loss: 0.5282 - accuracy: 0.7351 - val_loss: 0.4515 - val_accuracy: 0.8507\n",
      "Epoch 29/100\n",
      "5520/5520 - 0s - loss: 0.5219 - accuracy: 0.7446 - val_loss: 0.4448 - val_accuracy: 0.8565\n",
      "Epoch 30/100\n",
      "5520/5520 - 0s - loss: 0.5233 - accuracy: 0.7353 - val_loss: 0.4255 - val_accuracy: 0.8522\n",
      "Epoch 31/100\n",
      "5520/5520 - 0s - loss: 0.5175 - accuracy: 0.7444 - val_loss: 0.4403 - val_accuracy: 0.8522\n",
      "Epoch 32/100\n",
      "5520/5520 - 0s - loss: 0.5174 - accuracy: 0.7504 - val_loss: 0.4311 - val_accuracy: 0.8580\n",
      "Epoch 33/100\n",
      "5520/5520 - 0s - loss: 0.4929 - accuracy: 0.7716 - val_loss: 0.4020 - val_accuracy: 0.8580\n",
      "Epoch 34/100\n",
      "5520/5520 - 0s - loss: 0.4962 - accuracy: 0.7708 - val_loss: 0.4019 - val_accuracy: 0.8638\n",
      "Epoch 35/100\n",
      "5520/5520 - 0s - loss: 0.4904 - accuracy: 0.7726 - val_loss: 0.4011 - val_accuracy: 0.8652\n",
      "Epoch 36/100\n",
      "5520/5520 - 0s - loss: 0.4881 - accuracy: 0.7812 - val_loss: 0.3853 - val_accuracy: 0.8681\n",
      "Epoch 37/100\n",
      "5520/5520 - 0s - loss: 0.4842 - accuracy: 0.7835 - val_loss: 0.4025 - val_accuracy: 0.8522\n",
      "Epoch 38/100\n",
      "5520/5520 - 0s - loss: 0.4789 - accuracy: 0.7846 - val_loss: 0.3847 - val_accuracy: 0.8623\n",
      "Epoch 39/100\n",
      "5520/5520 - 0s - loss: 0.4707 - accuracy: 0.7857 - val_loss: 0.3654 - val_accuracy: 0.8725\n",
      "Epoch 40/100\n",
      "5520/5520 - 0s - loss: 0.4666 - accuracy: 0.7893 - val_loss: 0.3782 - val_accuracy: 0.8739\n",
      "Epoch 41/100\n",
      "5520/5520 - 0s - loss: 0.4651 - accuracy: 0.7924 - val_loss: 0.3763 - val_accuracy: 0.8696\n",
      "Epoch 42/100\n",
      "5520/5520 - 0s - loss: 0.4630 - accuracy: 0.7918 - val_loss: 0.3621 - val_accuracy: 0.8696\n",
      "Epoch 43/100\n",
      "5520/5520 - 0s - loss: 0.4587 - accuracy: 0.7933 - val_loss: 0.3564 - val_accuracy: 0.8710\n",
      "Epoch 44/100\n",
      "5520/5520 - 0s - loss: 0.4539 - accuracy: 0.7973 - val_loss: 0.3564 - val_accuracy: 0.8739\n",
      "Epoch 45/100\n",
      "5520/5520 - 0s - loss: 0.4578 - accuracy: 0.7953 - val_loss: 0.3639 - val_accuracy: 0.8855\n",
      "Epoch 46/100\n",
      "5520/5520 - 0s - loss: 0.4493 - accuracy: 0.8116 - val_loss: 0.3604 - val_accuracy: 0.8783\n",
      "Epoch 47/100\n",
      "5520/5520 - 0s - loss: 0.4456 - accuracy: 0.8132 - val_loss: 0.3565 - val_accuracy: 0.8725\n"
     ]
    },
    {
     "data": {
      "text/plain": [
       "<tensorflow.python.keras.callbacks.History at 0x48105448>"
      ]
     },
     "execution_count": 94,
     "metadata": {},
     "output_type": "execute_result"
    }
   ],
   "source": [
    "# Set the input and output sizes\n",
    "input_size = 16\n",
    "output_size = 2\n",
    "# Use same hidden layer size for both hidden layers. Not a necessity.\n",
    "hidden_layer_size = 20\n",
    "    \n",
    "# define how the model will look like\n",
    "model = tf.keras.Sequential([\n",
    "    # tf.keras.layers.Dense is basically implementing: output = activation(dot(input, weight) + bias)\n",
    "    # it takes several arguments, but the most important ones for us are the hidden_layer_size and the activation function\n",
    "    tf.keras.layers.Dense(hidden_layer_size, activation='relu'), # 1st hidden layer\n",
    "    tf.keras.layers.Dropout(0.2),\n",
    "    tf.keras.layers.Dense(hidden_layer_size, activation='relu'), # 2nd hidden layer\n",
    "    tf.keras.layers.Dropout(0.2),\n",
    "    # the final layer is no different, we just make sure to activate it with softmax\n",
    "    tf.keras.layers.Dense(output_size, activation='softmax') # output layer\n",
    "])\n",
    "\n",
    "\n",
    "### Choose the optimizer and the loss function\n",
    "\n",
    "# we define the optimizer we'd like to use, \n",
    "# the loss function, \n",
    "# and the metrics we are interested in obtaining at each iteration\n",
    "model.compile(optimizer='adam', loss='sparse_categorical_crossentropy', metrics=['accuracy'])\n",
    "\n",
    "### Training\n",
    "# That's where we train the model we have built.\n",
    "\n",
    "# set the batch size\n",
    "batch_size = 32\n",
    "\n",
    "# set a maximum number of training epochs\n",
    "max_epochs = 100\n",
    "\n",
    "# set an early stopping mechanism\n",
    "# let's set patience=2, to be a bit tolerant against random validation loss increases\n",
    "early_stopping = tf.keras.callbacks.EarlyStopping(patience=3)\n",
    "\n",
    "# fit the model\n",
    "# note that this time the train, validation and test data are not iterable\n",
    "model.fit(train_inputs, # train inputs\n",
    "          train_targets, # train targets\n",
    "          batch_size=batch_size, # batch size\n",
    "          epochs=max_epochs, # epochs that we will train for (assuming early stopping doesn't kick in)\n",
    "          # callbacks are functions called by a task when a task is completed\n",
    "          # task here is to check if val_loss is increasing\n",
    "          callbacks=[early_stopping], # early stopping\n",
    "          validation_data=(validation_inputs, validation_targets), # validation data\n",
    "          verbose = 2 # making sure we get enough information about the training process\n",
    "          )  "
   ]
  },
  {
   "cell_type": "markdown",
   "metadata": {},
   "source": [
    "## Model Testing"
   ]
  },
  {
   "cell_type": "code",
   "execution_count": 95,
   "metadata": {},
   "outputs": [
    {
     "name": "stdout",
     "output_type": "stream",
     "text": [
      "690/690 [==============================] - 0s 20us/sample - loss: 0.3964 - accuracy: 0.8667\n"
     ]
    }
   ],
   "source": [
    "test_loss, test_accuracy = model.evaluate(test_inputs, test_targets)"
   ]
  },
  {
   "cell_type": "code",
   "execution_count": 96,
   "metadata": {},
   "outputs": [
    {
     "name": "stdout",
     "output_type": "stream",
     "text": [
      "\n",
      "Test loss: 0.40. Test accuracy: 86.67%\n"
     ]
    }
   ],
   "source": [
    "print('\\nTest loss: {0:.2f}. Test accuracy: {1:.2f}%'.format(test_loss, test_accuracy*100.))"
   ]
  },
  {
   "cell_type": "code",
   "execution_count": null,
   "metadata": {},
   "outputs": [],
   "source": []
  },
  {
   "cell_type": "code",
   "execution_count": null,
   "metadata": {},
   "outputs": [],
   "source": []
  }
 ],
 "metadata": {
  "kernelspec": {
   "display_name": "Python 3",
   "language": "python",
   "name": "python3"
  },
  "language_info": {
   "codemirror_mode": {
    "name": "ipython",
    "version": 3
   },
   "file_extension": ".py",
   "mimetype": "text/x-python",
   "name": "python",
   "nbconvert_exporter": "python",
   "pygments_lexer": "ipython3",
   "version": "3.7.1"
  }
 },
 "nbformat": 4,
 "nbformat_minor": 4
}
